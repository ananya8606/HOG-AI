{
 "cells": [
  {
   "cell_type": "code",
   "execution_count": null,
   "metadata": {},
   "outputs": [],
   "source": [
    "import pandas as pd\n",
    "train=pd.DataFrame(pd.read_csv('train.csv'))\n",
    "test=pd.DataFrame(pd.read_csv('test.csv'))\n",
    "train.drop(train.columns[[0]], axis = 1, inplace = True)\n",
    "test.drop(test.columns[[0]], axis = 1, inplace = True)\n",
    "train.fillna('0',inplace=True)\n",
    "test.fillna('0',inplace=True)\n",
    "train.to_csv('mtrain.csv')\n",
    "test.to_csv('mtest.csv')"
   ]
  },
  {
   "cell_type": "code",
   "execution_count": 9,
   "metadata": {
    "scrolled": false
   },
   "outputs": [
    {
     "name": "stdout",
     "output_type": "stream",
     "text": [
      "<class 'pandas.core.frame.DataFrame'>\n",
      "RangeIndex: 142981 entries, 0 to 142980\n",
      "Data columns (total 14 columns):\n",
      "Date              142981 non-null object\n",
      "Property Type     142981 non-null object\n",
      "OldvNew           142981 non-null object\n",
      "Duration          142981 non-null object\n",
      "AddressLine1      142981 non-null object\n",
      "AddressLine2      142981 non-null object\n",
      "Street            142981 non-null object\n",
      "Locality          142981 non-null object\n",
      "Town              142981 non-null object\n",
      "Taluka            142981 non-null object\n",
      "District          142981 non-null object\n",
      "Postcode          142981 non-null object\n",
      "Price             142981 non-null float64\n",
      "Price Category    142981 non-null object\n",
      "dtypes: float64(1), object(13)\n",
      "memory usage: 15.3+ MB\n",
      "None\n",
      "<class 'pandas.core.frame.DataFrame'>\n",
      "RangeIndex: 61277 entries, 0 to 61276\n",
      "Data columns (total 13 columns):\n",
      "Date              61277 non-null object\n",
      "Property Type     61277 non-null object\n",
      "OldvNew           61277 non-null object\n",
      "Duration          61277 non-null object\n",
      "AddressLine1      61277 non-null object\n",
      "AddressLine2      61277 non-null object\n",
      "Street            61277 non-null object\n",
      "Locality          61277 non-null object\n",
      "Town              61277 non-null object\n",
      "Taluka            61277 non-null object\n",
      "District          61277 non-null object\n",
      "Postcode          61277 non-null object\n",
      "Price Category    61277 non-null object\n",
      "dtypes: object(13)\n",
      "memory usage: 6.1+ MB\n",
      "None\n"
     ]
    }
   ],
   "source": [
    "import pandas as pd\n",
    "train=pd.DataFrame(pd.read_csv('mtrain.csv'))\n",
    "test=pd.DataFrame(pd.read_csv('mtest.csv'))\n",
    "train.drop(train.columns[[0]], axis = 1, inplace = True)\n",
    "test.drop(test.columns[[0]], axis = 1, inplace = True)\n",
    "print(train.info())\n",
    "print(test.info())"
   ]
  },
  {
   "cell_type": "code",
   "execution_count": 2,
   "metadata": {},
   "outputs": [],
   "source": [
    "import datetime\n",
    "def datedif(date1=\"\",date2=\"\"):\n",
    "    x1,y1,z1=[int(i) for i in date1.split('-')]\n",
    "    x2,y2,z2=[int(i) for i in date2.split('-')]\n",
    "    d1=datetime.datetime(z1,y1,x1)\n",
    "    d2=datetime.datetime(z2,y2,x2)\n",
    "    d3=d1-d2\n",
    "    return d3.days\n",
    "\n",
    "def maxdate(arr=[]):\n",
    "    maxi=datetime.datetime(1600,1,1)\n",
    "    for i in arr:\n",
    "        x,y,z=[int(k) for k in i.split('-')]\n",
    "        j=datetime.datetime(z,y,x)\n",
    "        if j>maxi:\n",
    "            maxi=j\n",
    "    return maxi"
   ]
  },
  {
   "cell_type": "code",
   "execution_count": 21,
   "metadata": {},
   "outputs": [
    {
     "name": "stdout",
     "output_type": "stream",
     "text": [
      "2019-01-18 00:00:00\n",
      "(142981, 1)\n",
      "[272.09787645]\n"
     ]
    }
   ],
   "source": [
    "import pandas as pd\n",
    "import matplotlib.pyplot as plt\n",
    "import numpy as np\n",
    "from sklearn.linear_model import LinearRegression\n",
    "\n",
    "train=pd.DataFrame(pd.read_csv('mtrain.csv'))\n",
    "test=pd.DataFrame(pd.read_csv('mtest.csv'))\n",
    "\n",
    "train.drop(train.columns[[0]], axis = 1, inplace = True)\n",
    "test.drop(test.columns[[0]], axis = 1, inplace = True)\n",
    "\n",
    "maxi=maxdate(train['Date'])\n",
    "print(maxi)\n",
    "maxi=str(maxi.day)+\"-\"+str(maxi.month)+\"-\"+str(maxi.year)\n",
    "\n",
    "prices=[]\n",
    "for i in train['Price']:\n",
    "    prices.append(int(i))\n",
    "\n",
    "dat=[]\n",
    "for date in train['Date']:\n",
    "    dat.append(datedif(maxi,date))\n",
    "\n",
    "print(np.shape(np.array(dat).reshape(-1,1)))\n",
    "reg = LinearRegression().fit(np.array(dat).reshape(-1,1),prices)\n",
    "print(reg.predict(np.array([[0]])))"
   ]
  },
  {
   "cell_type": "code",
   "execution_count": null,
   "metadata": {},
   "outputs": [],
   "source": []
  }
 ],
 "metadata": {
  "kernelspec": {
   "display_name": "Python 3",
   "language": "python",
   "name": "python3"
  },
  "language_info": {
   "codemirror_mode": {
    "name": "ipython",
    "version": 3
   },
   "file_extension": ".py",
   "mimetype": "text/x-python",
   "name": "python",
   "nbconvert_exporter": "python",
   "pygments_lexer": "ipython3",
   "version": "3.7.4"
  }
 },
 "nbformat": 4,
 "nbformat_minor": 2
}
