{
 "cells": [
  {
   "cell_type": "code",
   "execution_count": 9,
   "metadata": {},
   "outputs": [
    {
     "name": "stdout",
     "output_type": "stream",
     "text": [
      "1\n",
      "1\n",
      "2\n",
      "2\n",
      "3\n",
      "3.000000\n",
      "1 2\n",
      "1 2\n",
      "1 2\n",
      "1.000000 2.000000\n",
      "1 3\n",
      "1 3\n",
      "range(0, 5)\n",
      "1 2\n",
      "1\n",
      "2\n"
     ]
    }
   ],
   "source": [
    "#Sinple  variable input as int\n",
    "n=int(input())\n",
    "#Single  variable output as int\n",
    "print(\"%d\"%n)\n",
    "\n",
    "#Sinple  variable input as string\n",
    "n=input()\n",
    "#Single  variable output as string\n",
    "print(\"%s\"%n)\n",
    "\n",
    "#Sinple  variable input as float\n",
    "n=float(input())\n",
    "#Single  variable output as float\n",
    "print(\"%f\"%n)\n",
    "\n",
    "#Multi varaible variable input as int\n",
    "n,m=map(int,input().split())\n",
    "#Multi  variable output as int\n",
    "print(\"%d %d\"%(n,m))\n",
    "\n",
    "#Multi varaible variable input as float\n",
    "n,m=map(float,input().split())\n",
    "#Multi  variable output as float\n",
    "print(\"%f %f\"%(n,m))\n",
    "\n",
    "#Multi varaible variable input as string\n",
    "n,m=input().split()\n",
    "#Multi  variable output as string\n",
    "print(\"%s %s\"%(n,m))\n",
    "\n",
    "#Multi input and output using loop \n",
    "# range(start,stop)-generates list of integers\n",
    "arr=[int(i) for i in input().split()]\n",
    "for i in range(0,len(arr)):\n",
    "    print(\"%d\"%arr[i])"
   ]
  },
  {
   "cell_type": "code",
   "execution_count": 16,
   "metadata": {},
   "outputs": [
    {
     "name": "stdout",
     "output_type": "stream",
     "text": [
      "3\n",
      "i am three\n",
      "[False, True, False, True, False, True, False, True]\n"
     ]
    }
   ],
   "source": [
    "#conditional statements\n",
    "\n",
    "#python does not have switch case\n",
    "\n",
    "#if-elif-else construct\n",
    "n=int(input())\n",
    "if n==1:\n",
    "    print(\"i am one\")\n",
    "elif n==2:\n",
    "    print(\"i am two\")\n",
    "else:\n",
    "    print(\"i am three\")\n",
    "    \n",
    "#conditonal selection\n",
    "arr=[1,2,3,4,5,6,7,8]\n",
    "ans=[i%2==0 for i in arr]\n",
    "print(ans)\n",
    "ans=[i%2==0 for i in arr]\n",
    "print(ans)"
   ]
  },
  {
   "cell_type": "code",
   "execution_count": 5,
   "metadata": {},
   "outputs": [
    {
     "name": "stdout",
     "output_type": "stream",
     "text": [
      "1 sam\n",
      "2 ram\n",
      "3 ham\n",
      "4 sum\n",
      "5 rum\n",
      "6 tum\n",
      "sam\n",
      "ram\n",
      "ham\n",
      "sum\n",
      "rum\n",
      "tum\n",
      "1\n",
      "2\n",
      "3\n",
      "4\n",
      "5\n",
      "6\n"
     ]
    }
   ],
   "source": [
    "#Iteration\n",
    "a=[1,2,3,4,5,6]\n",
    "b=[\"sam\",\"ram\",\"ham\",\"sum\",\"rum\",\"tum\"]\n",
    "\n",
    "#for loop\n",
    "for i in range(0,6):\n",
    "    print(str(a[i])+\" \"+b[i])\n",
    "\n",
    "for i in b:\n",
    "    print(i)\n",
    "\n",
    "for i in a:\n",
    "    print(i)\n",
    "\n",
    "#while loop\n",
    "while i<6:\n",
    "    i+=1\n",
    "    print(str(a[i])+\" \"+b[i])\n",
    "\n",
    "#use of continue & break is same as c++"
   ]
  },
  {
   "cell_type": "code",
   "execution_count": 6,
   "metadata": {},
   "outputs": [
    {
     "name": "stdout",
     "output_type": "stream",
     "text": [
      "0\n",
      "0.0\n",
      "(1+10j)\n"
     ]
    }
   ],
   "source": [
    "#Numbers\n",
    "\n",
    "# Type int(x) to convert x to a plain integer.\n",
    "# Type long(x) to convert x to a long integer.\n",
    "# Type float(x) to convert x to a floating-point number.\n",
    "# Type complex(x) to convert x to a complex number with real part x and imaginary part zero.\n",
    "# Type complex(x, y) to convert x and y to a complex number with real part x and imaginary part y. x and y are numeric expressions\n",
    "# abs(x) The absolute value of x: the (positive) distance between x and zero.\n",
    "# ceil(x) The ceiling of x: the smallest integer not less than x\n",
    "# cmp(x, y) -1 if x < y, 0 if x == y, or 1 if x > y\n",
    "# exp(x) The exponential of x: ex\n",
    "# fabs(x) The absolute value of x.\n",
    "# floor(x) The floor of x: the largest integer not greater than x\n",
    "# log(x) The natural logarithm of x, for x> 0\n",
    "# log10(x) The base-10 logarithm of x for x> 0.\n",
    "# max(x1, x2,...) The largest of its arguments: the value closest to positive infinity\n",
    "# min(x1, x2,...) The smallest of its arguments: the value closest to negative infinity\n",
    "# modf(x) The fractional and integer parts of x in a two-item tuple. Both parts have the same sign as x. The integer part is returned as a float.\n",
    "# pow(x, y) The value of x**y.\n",
    "# round(x [,n]) x rounded to n digits from the decimal point. Python rounds away from zero as a tie-breaker: round(0.5) is 1.0 and round(-0.5) is -1.0.\n",
    "# sqrt(x) The square root of x for x > 0\n",
    "\n",
    "#integer or long\n",
    "a=0\n",
    "print(a)\n",
    "\n",
    "#float\n",
    "b=0.0\n",
    "print(b)\n",
    "\n",
    "#complex\n",
    "c=1+10j\n",
    "print(c)"
   ]
  },
  {
   "cell_type": "code",
   "execution_count": 7,
   "metadata": {},
   "outputs": [
    {
     "name": "stdout",
     "output_type": "stream",
     "text": [
      " I am happy  i am sad\n",
      " I am happy  I am happy  I am happy  I am happy  I am happy \n",
      "i a\n",
      "True\n",
      "False\n"
     ]
    }
   ],
   "source": [
    "#STRINGs\n",
    "\n",
    "# endswith(suffix, beg=0, end=len(string)) Determines if string or a substring of string (if starting index beg and ending index end are given) ends with suffix; returns true if so and false otherwise.\n",
    "# count(str, beg= 0,end=len(string)) Counts how many times str occurs in string or in a substring of string if starting index beg and ending index end are given.\n",
    "# endswith(suffix, beg=0, end=len(string)) Determines if string or a substring of string (if starting index beg and ending index end are given) ends with suffix; returns true if so and false otherwise.\n",
    "# find(str, beg=0 end=len(string)) Determine if str occurs in string or in a substring of string if starting index beg and ending index end are given returns index if found and -1 otherwise.\n",
    "# strip([chars]) Performs both lstrip() and rstrip() on string.\n",
    "# startswith(str, beg=0,end=len(string)) Determines if string or a substring of string (if starting index beg and ending index end are given) starts with substring str; returns true if so and false otherwise.\n",
    "\n",
    "#String Operators\n",
    "a=\" I am happy \"\n",
    "b=\" i am sad\"\n",
    "\n",
    "# + Concatenation - Adds values on either side of the operator\n",
    "print(a+b)\n",
    "\n",
    "# * Repetition - Creates new strings, concatenating multiple copies of the same string\n",
    "print(a*5)\n",
    "\n",
    "# [start:stop] Slice - Gives the character from the given index\n",
    "print(b[1:4])\n",
    "\n",
    "# in Membership - Returns true if a character exists in the given string\n",
    "print(\"I\" in a)\n",
    "\n",
    "# not in Membership - Returns true if a character does not exist in the given string\n",
    "print(\"i\" in a)"
   ]
  },
  {
   "cell_type": "code",
   "execution_count": 9,
   "metadata": {},
   "outputs": [
    {
     "name": "stdout",
     "output_type": "stream",
     "text": [
      "sum\n",
      "sum\n",
      "['ram', 'ham']\n",
      "['sum', 'rum', 'tum']\n",
      "['sam', 'ram', 'ham']\n",
      "['ham', 'sum']\n",
      "ram\n",
      "3\n",
      "[1, 2, 3, 4, 5, 6]\n",
      "['Hi!', 'Hi!', 'Hi!', 'Hi!']\n",
      "True\n"
     ]
    }
   ],
   "source": [
    "#LIST\n",
    "\n",
    "# list.append(obj) Appends object obj to list\n",
    "# list.count(obj) Returns count of how many times obj occurs in list\n",
    "# list.extend(seq) Appends the contents of seq to list\n",
    "# list.extend(seq) Appends the contents of seq to list\n",
    "# list.index(obj) Returns the lowest index in list that obj appears\n",
    "# list.insert(index, obj) Inserts object obj into list at offset index\n",
    "# list.pop(obj=list[-1]) Removes and returns last object or obj from list\n",
    "# list.remove(obj) Removes object obj from list\n",
    "# list.reverse() Reverses objects of list in place\n",
    "# list.sort([func]) Sorts objects of list, use compare func if given\n",
    "\n",
    "# cmp(list1, list2) Compares elements of both lists.\n",
    "# len(list) Gives the total length of the list.\n",
    "# max(list) Returns item from the list with max value.\n",
    "# min(list) Returns item from the list with min value.\n",
    "# list(seq) Converts a tuple into list.\n",
    "\n",
    "a=[\"sam\",\"ram\",\"ham\",\"sum\",\"rum\",\"tum\"]\n",
    "print(a[3])\n",
    "print(a[-3])\n",
    "print(a[1:3])\n",
    "print(a[3:])\n",
    "print(a[:3])\n",
    "print(a[-4:-2])\n",
    "\n",
    "del a[0]\n",
    "print(a[0])\n",
    "\n",
    "print(len([1, 2, 3]))\n",
    "print([1, 2, 3] + [4, 5, 6])\n",
    "print(['Hi!'] * 4)\n",
    "print(3 in [1, 2, 3])"
   ]
  },
  {
   "cell_type": "code",
   "execution_count": 11,
   "metadata": {},
   "outputs": [
    {
     "name": "stdout",
     "output_type": "stream",
     "text": [
      "('physics', 'chemistry', 1997, 2000)\n"
     ]
    }
   ],
   "source": [
    "#TUPLES\n",
    "\n",
    "# cmp(tuple1, tuple2) Compares elements of both tuples.\n",
    "# len(tuple) Gives the total length of the tuple.\n",
    "# max(tuple) Returns item from the tuple with max value.\n",
    "# min(tuple) Returns item from the tuple with min value.\n",
    "# tuple(seq) Converts a list into tuple.\n",
    "\n",
    "#NOTE: Tuples are immutable list so indexing is same as of list\n",
    "\n",
    "tup=('physics', 'chemistry', 1997, 2000);\n",
    "print(tup);"
   ]
  },
  {
   "cell_type": "code",
   "execution_count": 13,
   "metadata": {},
   "outputs": [
    {
     "name": "stdout",
     "output_type": "stream",
     "text": [
      "Zara\n",
      "7\n",
      "{'Age': 7, 'Class': 'First'}\n"
     ]
    }
   ],
   "source": [
    "#DICTIONARY\n",
    "\n",
    "dict = {'Name': 'Zara', 'Age': 7, 'Class': 'First'}\n",
    "print(dict['Name'])\n",
    "print(dict['Age'])\n",
    "del dict['Name']\n",
    "print(dict)\n",
    "\n",
    "# More than one entry per key not allowed.\n",
    "# Keys must be immutable."
   ]
  },
  {
   "cell_type": "code",
   "execution_count": null,
   "metadata": {},
   "outputs": [],
   "source": []
  }
 ],
 "metadata": {
  "kernelspec": {
   "display_name": "Python 3",
   "language": "python",
   "name": "python3"
  },
  "language_info": {
   "codemirror_mode": {
    "name": "ipython",
    "version": 3
   },
   "file_extension": ".py",
   "mimetype": "text/x-python",
   "name": "python",
   "nbconvert_exporter": "python",
   "pygments_lexer": "ipython3",
   "version": "3.7.4"
  }
 },
 "nbformat": 4,
 "nbformat_minor": 2
}
